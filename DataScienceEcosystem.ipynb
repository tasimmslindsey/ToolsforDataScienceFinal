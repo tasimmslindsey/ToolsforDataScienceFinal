{
 "cells": [
  {
   "cell_type": "markdown",
   "id": "e37ec162-a44d-461b-bad0-7f338d0d507c",
   "metadata": {},
   "source": [
    "# Data Science Tools and Ecosystem\n",
    "## Tiffany Simms Lindsey"
   ]
  },
  {
   "cell_type": "markdown",
   "id": "fd444a99-f5ef-495f-a96f-359b2dd10a29",
   "metadata": {},
   "source": [
    "In this notebook, Data Science Tools and Ecosystem are summarized"
   ]
  },
  {
   "cell_type": "markdown",
   "id": "96194b67-00d1-485c-a742-fb3d622bdd47",
   "metadata": {},
   "source": [
    "Objectives:\n",
    "----------\n",
    "- List Popular Languages for Data Science\n",
    "- List Commonly Used Libraries\n",
    "- Open Source Data Science Tools\n",
    "- Basic Arithmetic\n",
    "- Simple Conversions"
   ]
  },
  {
   "cell_type": "markdown",
   "id": "6ea3fea4-5fc0-46b8-8bf6-140b00204217",
   "metadata": {},
   "source": [
    "Some of the popular languages that Data Scientists use are:\n",
    "1. Python\n",
    "2. SQL\n",
    "3. R"
   ]
  },
  {
   "cell_type": "markdown",
   "id": "01ffa26f-0695-4a76-8a17-5f87529742af",
   "metadata": {},
   "source": [
    "Some of the commonly used libraries used by Data Scientists include:\n",
    "1. Pandas\n",
    "2. Numpy\n",
    "3. Scikit-learn\n",
    "4. Matplotlib"
   ]
  },
  {
   "cell_type": "markdown",
   "id": "35a31668-3e01-4a51-ab25-70d00a814834",
   "metadata": {},
   "source": [
    "| Data Science Tools |\n",
    "|-----------|\n",
    "| RStudio |\n",
    "| Hadoop |\n",
    "| Jupyter Notebooks |"
   ]
  },
  {
   "cell_type": "markdown",
   "id": "8f50989c-d701-4d9d-948f-97b51a6bfb98",
   "metadata": {},
   "source": [
    "Below are a few examples of evaluating arithmetic expressions in Python"
   ]
  },
  {
   "cell_type": "code",
   "execution_count": 29,
   "id": "51093294-d704-4340-8b5a-d28464fbdbfe",
   "metadata": {},
   "outputs": [
    {
     "data": {
      "text/plain": [
       "17"
      ]
     },
     "execution_count": 29,
     "metadata": {},
     "output_type": "execute_result"
    }
   ],
   "source": [
    "#This is a simple arithmetic expression to multiply then add integers\n",
    "\n",
    "(3*4)+5"
   ]
  },
  {
   "cell_type": "code",
   "execution_count": 33,
   "id": "cbea0b14-e17a-48f9-9a76-54a42ca5f48f",
   "metadata": {},
   "outputs": [
    {
     "data": {
      "text/plain": [
       "3.3333333333333335"
      ]
     },
     "execution_count": 33,
     "metadata": {},
     "output_type": "execute_result"
    }
   ],
   "source": [
    "#This will convert 200 minutes to hours by dividing by 60\n",
    "\n",
    "200/60"
   ]
  },
  {
   "cell_type": "code",
   "execution_count": null,
   "id": "7e5f4d2d-ebf0-49a3-a0f1-0fc93ba6c4f5",
   "metadata": {},
   "outputs": [],
   "source": []
  }
 ],
 "metadata": {
  "kernelspec": {
   "display_name": "anaconda-panel-2023.05-py310",
   "language": "python",
   "name": "conda-env-anaconda-panel-2023.05-py310-py"
  },
  "language_info": {
   "codemirror_mode": {
    "name": "ipython",
    "version": 3
   },
   "file_extension": ".py",
   "mimetype": "text/x-python",
   "name": "python",
   "nbconvert_exporter": "python",
   "pygments_lexer": "ipython3",
   "version": "3.11.4"
  }
 },
 "nbformat": 4,
 "nbformat_minor": 5
}
